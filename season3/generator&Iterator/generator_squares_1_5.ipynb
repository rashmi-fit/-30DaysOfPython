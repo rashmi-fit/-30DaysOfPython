def square(n):
	for i in range(1,n+1):
		yield i**2

for num in square(5):
      print(num)
